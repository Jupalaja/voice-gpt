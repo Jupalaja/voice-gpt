{
 "cells": [
  {
   "cell_type": "markdown",
   "id": "8b22cc3e",
   "metadata": {},
   "source": [
    "# Voice Assistant Using ChatGPT and Whisper APIs"
   ]
  },
  {
   "cell_type": "markdown",
   "id": "12c14848",
   "metadata": {},
   "source": [
    "Import necessary libraries"
   ]
  },
  {
   "cell_type": "code",
   "execution_count": 1,
   "id": "8af74631",
   "metadata": {},
   "outputs": [],
   "source": [
    "import gradio as gr\n",
    "import openai\n",
    "import config\n",
    "import subprocess\n",
    "from pydub import AudioSegment"
   ]
  },
  {
   "cell_type": "markdown",
   "id": "0a3e0b7a",
   "metadata": {},
   "source": [
    "Set OpenAI API key and Define initial system message"
   ]
  },
  {
   "cell_type": "code",
   "execution_count": 2,
   "id": "3bb95f95",
   "metadata": {},
   "outputs": [],
   "source": [
    "openai.api_key = config.OPENAI_API_KEY\n",
    "messages = [{\"role\": \"system\", \"content\": 'You are a Helpful assistant, respond in 30 words or less'}]"
   ]
  },
  {
   "cell_type": "markdown",
   "id": "4538ee3f",
   "metadata": {},
   "source": [
    "Define the transcribe function that transcribes audio using OpenAI"
   ]
  },
  {
   "cell_type": "code",
   "execution_count": 3,
   "id": "b614fba2",
   "metadata": {},
   "outputs": [],
   "source": [
    "def transcribe(audio):\n",
    "    global messages\n",
    "\n",
    "    audio_file_wav = open(audio, \"rb\")\n",
    "    audio_file_mp3 = AudioSegment.from_wav(audio_file_wav).export(\"audio.mp3\", format=\"mp3\")\n",
    "    transcript = openai.Audio.transcribe(\"whisper-1\", audio_file_mp3)\n",
    "\n",
    "    messages.append({\"role\": \"user\", \"content\": transcript[\"text\"]})\n",
    "\n",
    "    response = openai.ChatCompletion.create(model=\"gpt-3.5-turbo\", messages=messages)\n",
    "\n",
    "    system_message = response[\"choices\"][0][\"message\"]\n",
    "    messages.append(system_message)\n",
    "\n",
    "    subprocess.call([\"say\", system_message['content']])\n",
    "\n",
    "    chat_transcript = \"\"\n",
    "    for message in messages:\n",
    "        if message['role'] != 'system':\n",
    "            chat_transcript += message['role'] + \": \" + message['content'] + \"\\n\\n\"\n",
    "\n",
    "    return chat_transcript"
   ]
  },
  {
   "cell_type": "markdown",
   "id": "432821aa",
   "metadata": {},
   "source": [
    "Create a Gradio interface for the transcribe function"
   ]
  },
  {
   "cell_type": "code",
   "execution_count": 4,
   "id": "802361e2",
   "metadata": {},
   "outputs": [
    {
     "name": "stdout",
     "output_type": "stream",
     "text": [
      "Running on local URL:  http://127.0.0.1:7860\n",
      "\n",
      "To create a public link, set `share=True` in `launch()`.\n"
     ]
    },
    {
     "data": {
      "text/html": [
       "<div><iframe src=\"http://127.0.0.1:7860/\" width=\"100%\" height=\"500\" allow=\"autoplay; camera; microphone; clipboard-read; clipboard-write;\" frameborder=\"0\" allowfullscreen></iframe></div>"
      ],
      "text/plain": [
       "<IPython.core.display.HTML object>"
      ]
     },
     "metadata": {},
     "output_type": "display_data"
    },
    {
     "data": {
      "text/plain": []
     },
     "execution_count": 4,
     "metadata": {},
     "output_type": "execute_result"
    },
    {
     "name": "stderr",
     "output_type": "stream",
     "text": [
      "/Users/lasso/Documents/jupyter-server/voice-gpt/venv/lib/python3.10/site-packages/gradio/processing_utils.py:239: UserWarning: Trying to convert audio automatically from int32 to 16-bit int format.\n",
      "  warnings.warn(warning.format(data.dtype))\n"
     ]
    }
   ],
   "source": [
    "ui = gr.Interface(fn=transcribe, inputs=gr.Audio(source=\"microphone\", type=\"filepath\"), outputs=\"text\")\n",
    "ui.launch()"
   ]
  },
  {
   "cell_type": "code",
   "execution_count": null,
   "id": "b0ad70b3",
   "metadata": {},
   "outputs": [],
   "source": []
  }
 ],
 "metadata": {
  "kernelspec": {
   "display_name": "voicegpt",
   "language": "python",
   "name": "voicegpt"
  },
  "language_info": {
   "codemirror_mode": {
    "name": "ipython",
    "version": 3
   },
   "file_extension": ".py",
   "mimetype": "text/x-python",
   "name": "python",
   "nbconvert_exporter": "python",
   "pygments_lexer": "ipython3",
   "version": "3.10.10"
  }
 },
 "nbformat": 4,
 "nbformat_minor": 5
}
